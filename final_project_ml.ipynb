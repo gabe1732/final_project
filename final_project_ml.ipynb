{
 "cells": [
  {
   "cell_type": "code",
   "execution_count": 1,
   "id": "03dc1db0",
   "metadata": {},
   "outputs": [],
   "source": [
    "import warnings\n",
    "warnings.filterwarnings('ignore')\n",
    "from path import Path"
   ]
  },
  {
   "cell_type": "code",
   "execution_count": 2,
   "id": "37e88668",
   "metadata": {},
   "outputs": [],
   "source": [
    "import numpy as np\n",
    "import pandas as pd\n",
    "from pathlib import Path\n",
    "from collections import Counter\n",
    "import matplotlib.pyplot as plt"
   ]
  },
  {
   "cell_type": "code",
   "execution_count": 3,
   "id": "a882f9f4",
   "metadata": {},
   "outputs": [],
   "source": [
    "from sklearn.metrics import balanced_accuracy_score\n",
    "from sklearn.metrics import confusion_matrix\n"
   ]
  },
  {
   "cell_type": "code",
   "execution_count": 4,
   "id": "96d49b5a",
   "metadata": {},
   "outputs": [],
   "source": [
    "df = pd.read_csv(r'C:\\Users\\Vyral\\UCFBootcamp\\Final_Project\\googleplaystore_data_v1.csv')"
   ]
  },
  {
   "cell_type": "code",
   "execution_count": 5,
   "id": "49baffd8",
   "metadata": {},
   "outputs": [
    {
     "data": {
      "text/html": [
       "<div>\n",
       "<style scoped>\n",
       "    .dataframe tbody tr th:only-of-type {\n",
       "        vertical-align: middle;\n",
       "    }\n",
       "\n",
       "    .dataframe tbody tr th {\n",
       "        vertical-align: top;\n",
       "    }\n",
       "\n",
       "    .dataframe thead th {\n",
       "        text-align: right;\n",
       "    }\n",
       "</style>\n",
       "<table border=\"1\" class=\"dataframe\">\n",
       "  <thead>\n",
       "    <tr style=\"text-align: right;\">\n",
       "      <th></th>\n",
       "      <th>app_id</th>\n",
       "      <th>app_name</th>\n",
       "      <th>category</th>\n",
       "      <th>app_type</th>\n",
       "      <th>content_rating</th>\n",
       "      <th>genres</th>\n",
       "      <th>sub_genre</th>\n",
       "      <th>rating</th>\n",
       "      <th>reviews</th>\n",
       "      <th>app_size</th>\n",
       "      <th>installs</th>\n",
       "      <th>price</th>\n",
       "      <th>last_updated</th>\n",
       "    </tr>\n",
       "  </thead>\n",
       "  <tbody>\n",
       "    <tr>\n",
       "      <th>0</th>\n",
       "      <td>A0001</td>\n",
       "      <td>Monster Truck Driver &amp; Racing</td>\n",
       "      <td>EDUCATION</td>\n",
       "      <td>Free</td>\n",
       "      <td>Everyone</td>\n",
       "      <td>Education</td>\n",
       "      <td>1</td>\n",
       "      <td>4.4</td>\n",
       "      <td>748</td>\n",
       "      <td>51.0</td>\n",
       "      <td>1000000</td>\n",
       "      <td>0.00</td>\n",
       "      <td>1/19/2017</td>\n",
       "    </tr>\n",
       "    <tr>\n",
       "      <th>1</th>\n",
       "      <td>A0002</td>\n",
       "      <td>Club Penguin Island</td>\n",
       "      <td>FAMILY</td>\n",
       "      <td>Free</td>\n",
       "      <td>Everyone</td>\n",
       "      <td>Casual</td>\n",
       "      <td>1</td>\n",
       "      <td>2.8</td>\n",
       "      <td>107441</td>\n",
       "      <td>32.0</td>\n",
       "      <td>1000000</td>\n",
       "      <td>0.00</td>\n",
       "      <td>7/10/2018</td>\n",
       "    </tr>\n",
       "    <tr>\n",
       "      <th>2</th>\n",
       "      <td>A0003</td>\n",
       "      <td>Rockstars of Ooo</td>\n",
       "      <td>FAMILY</td>\n",
       "      <td>Paid</td>\n",
       "      <td>Everyone 10+</td>\n",
       "      <td>Arcade</td>\n",
       "      <td>1</td>\n",
       "      <td>3.4</td>\n",
       "      <td>642</td>\n",
       "      <td>26.0</td>\n",
       "      <td>10000</td>\n",
       "      <td>1.99</td>\n",
       "      <td>8/11/2015</td>\n",
       "    </tr>\n",
       "    <tr>\n",
       "      <th>3</th>\n",
       "      <td>A0004</td>\n",
       "      <td>Formula Cartoon All Stars</td>\n",
       "      <td>FAMILY</td>\n",
       "      <td>Paid</td>\n",
       "      <td>Everyone</td>\n",
       "      <td>Racing</td>\n",
       "      <td>1</td>\n",
       "      <td>3.9</td>\n",
       "      <td>1213</td>\n",
       "      <td>18.0</td>\n",
       "      <td>10000</td>\n",
       "      <td>2.99</td>\n",
       "      <td>6/25/2015</td>\n",
       "    </tr>\n",
       "    <tr>\n",
       "      <th>4</th>\n",
       "      <td>A0005</td>\n",
       "      <td>Chuck E.'s Skate Universe</td>\n",
       "      <td>FAMILY</td>\n",
       "      <td>Free</td>\n",
       "      <td>Everyone</td>\n",
       "      <td>Action</td>\n",
       "      <td>1</td>\n",
       "      <td>3.9</td>\n",
       "      <td>94910</td>\n",
       "      <td>44.0</td>\n",
       "      <td>10000000</td>\n",
       "      <td>0.00</td>\n",
       "      <td>1/10/2017</td>\n",
       "    </tr>\n",
       "    <tr>\n",
       "      <th>5</th>\n",
       "      <td>A0006</td>\n",
       "      <td>Disney Magic Timer by Oral-B</td>\n",
       "      <td>FAMILY</td>\n",
       "      <td>Free</td>\n",
       "      <td>Everyone</td>\n",
       "      <td>Health &amp; Fitness</td>\n",
       "      <td>1</td>\n",
       "      <td>3.9</td>\n",
       "      <td>31061</td>\n",
       "      <td>83.0</td>\n",
       "      <td>1000000</td>\n",
       "      <td>0.00</td>\n",
       "      <td>6/16/2018</td>\n",
       "    </tr>\n",
       "    <tr>\n",
       "      <th>6</th>\n",
       "      <td>A0007</td>\n",
       "      <td>Whoowasit? - Best kids game!</td>\n",
       "      <td>FAMILY</td>\n",
       "      <td>Paid</td>\n",
       "      <td>Everyone</td>\n",
       "      <td>Board</td>\n",
       "      <td>1</td>\n",
       "      <td>4.0</td>\n",
       "      <td>248</td>\n",
       "      <td>26.0</td>\n",
       "      <td>5000</td>\n",
       "      <td>2.99</td>\n",
       "      <td>7/24/2018</td>\n",
       "    </tr>\n",
       "    <tr>\n",
       "      <th>7</th>\n",
       "      <td>A0008</td>\n",
       "      <td>Cute Pet Puppies</td>\n",
       "      <td>FAMILY</td>\n",
       "      <td>Free</td>\n",
       "      <td>Everyone</td>\n",
       "      <td>Simulation</td>\n",
       "      <td>1</td>\n",
       "      <td>4.0</td>\n",
       "      <td>10447</td>\n",
       "      <td>36.0</td>\n",
       "      <td>1000000</td>\n",
       "      <td>0.00</td>\n",
       "      <td>2/18/2016</td>\n",
       "    </tr>\n",
       "    <tr>\n",
       "      <th>8</th>\n",
       "      <td>A0009</td>\n",
       "      <td>RISK: Global Domination</td>\n",
       "      <td>FAMILY</td>\n",
       "      <td>Free</td>\n",
       "      <td>Everyone</td>\n",
       "      <td>Board</td>\n",
       "      <td>1</td>\n",
       "      <td>4.0</td>\n",
       "      <td>68559</td>\n",
       "      <td>75.0</td>\n",
       "      <td>5000000</td>\n",
       "      <td>0.00</td>\n",
       "      <td>7/31/2018</td>\n",
       "    </tr>\n",
       "    <tr>\n",
       "      <th>9</th>\n",
       "      <td>A0010</td>\n",
       "      <td>Batman: Gotham’s Most Wanted!</td>\n",
       "      <td>FAMILY</td>\n",
       "      <td>Free</td>\n",
       "      <td>Everyone</td>\n",
       "      <td>Action</td>\n",
       "      <td>1</td>\n",
       "      <td>4.0</td>\n",
       "      <td>16190</td>\n",
       "      <td>88.0</td>\n",
       "      <td>1000000</td>\n",
       "      <td>0.00</td>\n",
       "      <td>4/24/2018</td>\n",
       "    </tr>\n",
       "  </tbody>\n",
       "</table>\n",
       "</div>"
      ],
      "text/plain": [
       "  app_id                       app_name   category app_type content_rating  \\\n",
       "0  A0001  Monster Truck Driver & Racing  EDUCATION     Free       Everyone   \n",
       "1  A0002            Club Penguin Island     FAMILY     Free       Everyone   \n",
       "2  A0003               Rockstars of Ooo     FAMILY     Paid   Everyone 10+   \n",
       "3  A0004      Formula Cartoon All Stars     FAMILY     Paid       Everyone   \n",
       "4  A0005      Chuck E.'s Skate Universe     FAMILY     Free       Everyone   \n",
       "5  A0006   Disney Magic Timer by Oral-B     FAMILY     Free       Everyone   \n",
       "6  A0007   Whoowasit? - Best kids game!     FAMILY     Paid       Everyone   \n",
       "7  A0008               Cute Pet Puppies     FAMILY     Free       Everyone   \n",
       "8  A0009        RISK: Global Domination     FAMILY     Free       Everyone   \n",
       "9  A0010  Batman: Gotham’s Most Wanted!     FAMILY     Free       Everyone   \n",
       "\n",
       "             genres  sub_genre  rating  reviews  app_size  installs  price  \\\n",
       "0         Education          1     4.4      748      51.0   1000000   0.00   \n",
       "1            Casual          1     2.8   107441      32.0   1000000   0.00   \n",
       "2            Arcade          1     3.4      642      26.0     10000   1.99   \n",
       "3            Racing          1     3.9     1213      18.0     10000   2.99   \n",
       "4            Action          1     3.9    94910      44.0  10000000   0.00   \n",
       "5  Health & Fitness          1     3.9    31061      83.0   1000000   0.00   \n",
       "6             Board          1     4.0      248      26.0      5000   2.99   \n",
       "7        Simulation          1     4.0    10447      36.0   1000000   0.00   \n",
       "8             Board          1     4.0    68559      75.0   5000000   0.00   \n",
       "9            Action          1     4.0    16190      88.0   1000000   0.00   \n",
       "\n",
       "  last_updated  \n",
       "0    1/19/2017  \n",
       "1    7/10/2018  \n",
       "2    8/11/2015  \n",
       "3    6/25/2015  \n",
       "4    1/10/2017  \n",
       "5    6/16/2018  \n",
       "6    7/24/2018  \n",
       "7    2/18/2016  \n",
       "8    7/31/2018  \n",
       "9    4/24/2018  "
      ]
     },
     "execution_count": 5,
     "metadata": {},
     "output_type": "execute_result"
    }
   ],
   "source": [
    "df.head(10)"
   ]
  },
  {
   "cell_type": "code",
   "execution_count": 6,
   "id": "ba097cbb",
   "metadata": {},
   "outputs": [
    {
     "data": {
      "text/html": [
       "<div>\n",
       "<style scoped>\n",
       "    .dataframe tbody tr th:only-of-type {\n",
       "        vertical-align: middle;\n",
       "    }\n",
       "\n",
       "    .dataframe tbody tr th {\n",
       "        vertical-align: top;\n",
       "    }\n",
       "\n",
       "    .dataframe thead th {\n",
       "        text-align: right;\n",
       "    }\n",
       "</style>\n",
       "<table border=\"1\" class=\"dataframe\">\n",
       "  <thead>\n",
       "    <tr style=\"text-align: right;\">\n",
       "      <th></th>\n",
       "      <th>category</th>\n",
       "      <th>app_type</th>\n",
       "      <th>content_rating</th>\n",
       "      <th>genres</th>\n",
       "      <th>sub_genre</th>\n",
       "      <th>rating</th>\n",
       "      <th>reviews</th>\n",
       "      <th>app_size</th>\n",
       "      <th>installs</th>\n",
       "      <th>price</th>\n",
       "    </tr>\n",
       "  </thead>\n",
       "  <tbody>\n",
       "    <tr>\n",
       "      <th>0</th>\n",
       "      <td>EDUCATION</td>\n",
       "      <td>Free</td>\n",
       "      <td>Everyone</td>\n",
       "      <td>Education</td>\n",
       "      <td>1</td>\n",
       "      <td>4.4</td>\n",
       "      <td>748</td>\n",
       "      <td>51.0</td>\n",
       "      <td>1000000</td>\n",
       "      <td>0.00</td>\n",
       "    </tr>\n",
       "    <tr>\n",
       "      <th>1</th>\n",
       "      <td>FAMILY</td>\n",
       "      <td>Free</td>\n",
       "      <td>Everyone</td>\n",
       "      <td>Casual</td>\n",
       "      <td>1</td>\n",
       "      <td>2.8</td>\n",
       "      <td>107441</td>\n",
       "      <td>32.0</td>\n",
       "      <td>1000000</td>\n",
       "      <td>0.00</td>\n",
       "    </tr>\n",
       "    <tr>\n",
       "      <th>2</th>\n",
       "      <td>FAMILY</td>\n",
       "      <td>Paid</td>\n",
       "      <td>Everyone 10+</td>\n",
       "      <td>Arcade</td>\n",
       "      <td>1</td>\n",
       "      <td>3.4</td>\n",
       "      <td>642</td>\n",
       "      <td>26.0</td>\n",
       "      <td>10000</td>\n",
       "      <td>1.99</td>\n",
       "    </tr>\n",
       "    <tr>\n",
       "      <th>3</th>\n",
       "      <td>FAMILY</td>\n",
       "      <td>Paid</td>\n",
       "      <td>Everyone</td>\n",
       "      <td>Racing</td>\n",
       "      <td>1</td>\n",
       "      <td>3.9</td>\n",
       "      <td>1213</td>\n",
       "      <td>18.0</td>\n",
       "      <td>10000</td>\n",
       "      <td>2.99</td>\n",
       "    </tr>\n",
       "    <tr>\n",
       "      <th>4</th>\n",
       "      <td>FAMILY</td>\n",
       "      <td>Free</td>\n",
       "      <td>Everyone</td>\n",
       "      <td>Action</td>\n",
       "      <td>1</td>\n",
       "      <td>3.9</td>\n",
       "      <td>94910</td>\n",
       "      <td>44.0</td>\n",
       "      <td>10000000</td>\n",
       "      <td>0.00</td>\n",
       "    </tr>\n",
       "  </tbody>\n",
       "</table>\n",
       "</div>"
      ],
      "text/plain": [
       "    category app_type content_rating     genres  sub_genre  rating  reviews  \\\n",
       "0  EDUCATION     Free       Everyone  Education          1     4.4      748   \n",
       "1     FAMILY     Free       Everyone     Casual          1     2.8   107441   \n",
       "2     FAMILY     Paid   Everyone 10+     Arcade          1     3.4      642   \n",
       "3     FAMILY     Paid       Everyone     Racing          1     3.9     1213   \n",
       "4     FAMILY     Free       Everyone     Action          1     3.9    94910   \n",
       "\n",
       "   app_size  installs  price  \n",
       "0      51.0   1000000   0.00  \n",
       "1      32.0   1000000   0.00  \n",
       "2      26.0     10000   1.99  \n",
       "3      18.0     10000   2.99  \n",
       "4      44.0  10000000   0.00  "
      ]
     },
     "execution_count": 6,
     "metadata": {},
     "output_type": "execute_result"
    }
   ],
   "source": [
    "df_encode = df.drop(columns=[\"app_id\",\"app_name\",\"last_updated\"])\n",
    "df_encode.head()"
   ]
  },
  {
   "cell_type": "code",
   "execution_count": 7,
   "id": "3c477499",
   "metadata": {},
   "outputs": [],
   "source": [
    "from sklearn.preprocessing import LabelEncoder\n",
    "le = LabelEncoder()\n",
    "df2 = df_encode.copy()\n",
    "df2['app_type'] = le.fit_transform(df2['app_type'])\n",
    "df2['category'] = le.fit_transform(df2['category'])\n",
    "df2['content_rating'] = le.fit_transform(df2['content_rating'])\n",
    "df2['genres'] = le.fit_transform(df2['genres'])"
   ]
  },
  {
   "cell_type": "code",
   "execution_count": 8,
   "id": "6c62e138",
   "metadata": {},
   "outputs": [
    {
     "data": {
      "text/html": [
       "<div>\n",
       "<style scoped>\n",
       "    .dataframe tbody tr th:only-of-type {\n",
       "        vertical-align: middle;\n",
       "    }\n",
       "\n",
       "    .dataframe tbody tr th {\n",
       "        vertical-align: top;\n",
       "    }\n",
       "\n",
       "    .dataframe thead th {\n",
       "        text-align: right;\n",
       "    }\n",
       "</style>\n",
       "<table border=\"1\" class=\"dataframe\">\n",
       "  <thead>\n",
       "    <tr style=\"text-align: right;\">\n",
       "      <th></th>\n",
       "      <th>category</th>\n",
       "      <th>app_type</th>\n",
       "      <th>content_rating</th>\n",
       "      <th>genres</th>\n",
       "      <th>sub_genre</th>\n",
       "      <th>rating</th>\n",
       "      <th>reviews</th>\n",
       "      <th>app_size</th>\n",
       "      <th>installs</th>\n",
       "      <th>price</th>\n",
       "    </tr>\n",
       "  </thead>\n",
       "  <tbody>\n",
       "    <tr>\n",
       "      <th>0</th>\n",
       "      <td>8</td>\n",
       "      <td>0</td>\n",
       "      <td>1</td>\n",
       "      <td>15</td>\n",
       "      <td>1</td>\n",
       "      <td>4.4</td>\n",
       "      <td>748</td>\n",
       "      <td>51.0</td>\n",
       "      <td>1000000</td>\n",
       "      <td>0.00</td>\n",
       "    </tr>\n",
       "    <tr>\n",
       "      <th>1</th>\n",
       "      <td>11</td>\n",
       "      <td>0</td>\n",
       "      <td>1</td>\n",
       "      <td>11</td>\n",
       "      <td>1</td>\n",
       "      <td>2.8</td>\n",
       "      <td>107441</td>\n",
       "      <td>32.0</td>\n",
       "      <td>1000000</td>\n",
       "      <td>0.00</td>\n",
       "    </tr>\n",
       "    <tr>\n",
       "      <th>2</th>\n",
       "      <td>11</td>\n",
       "      <td>1</td>\n",
       "      <td>2</td>\n",
       "      <td>2</td>\n",
       "      <td>1</td>\n",
       "      <td>3.4</td>\n",
       "      <td>642</td>\n",
       "      <td>26.0</td>\n",
       "      <td>10000</td>\n",
       "      <td>1.99</td>\n",
       "    </tr>\n",
       "    <tr>\n",
       "      <th>3</th>\n",
       "      <td>11</td>\n",
       "      <td>1</td>\n",
       "      <td>1</td>\n",
       "      <td>35</td>\n",
       "      <td>1</td>\n",
       "      <td>3.9</td>\n",
       "      <td>1213</td>\n",
       "      <td>18.0</td>\n",
       "      <td>10000</td>\n",
       "      <td>2.99</td>\n",
       "    </tr>\n",
       "    <tr>\n",
       "      <th>4</th>\n",
       "      <td>11</td>\n",
       "      <td>0</td>\n",
       "      <td>1</td>\n",
       "      <td>0</td>\n",
       "      <td>1</td>\n",
       "      <td>3.9</td>\n",
       "      <td>94910</td>\n",
       "      <td>44.0</td>\n",
       "      <td>10000000</td>\n",
       "      <td>0.00</td>\n",
       "    </tr>\n",
       "  </tbody>\n",
       "</table>\n",
       "</div>"
      ],
      "text/plain": [
       "   category  app_type  content_rating  genres  sub_genre  rating  reviews  \\\n",
       "0         8         0               1      15          1     4.4      748   \n",
       "1        11         0               1      11          1     2.8   107441   \n",
       "2        11         1               2       2          1     3.4      642   \n",
       "3        11         1               1      35          1     3.9     1213   \n",
       "4        11         0               1       0          1     3.9    94910   \n",
       "\n",
       "   app_size  installs  price  \n",
       "0      51.0   1000000   0.00  \n",
       "1      32.0   1000000   0.00  \n",
       "2      26.0     10000   1.99  \n",
       "3      18.0     10000   2.99  \n",
       "4      44.0  10000000   0.00  "
      ]
     },
     "execution_count": 8,
     "metadata": {},
     "output_type": "execute_result"
    }
   ],
   "source": [
    "df2.head()"
   ]
  },
  {
   "cell_type": "code",
   "execution_count": 9,
   "id": "5c79bd1a",
   "metadata": {},
   "outputs": [],
   "source": [
    "y = df2[\"rating\"]\n",
    "X = df2.drop(columns=\"rating\")"
   ]
  },
  {
   "cell_type": "code",
   "execution_count": 13,
   "id": "002accd2",
   "metadata": {},
   "outputs": [
    {
     "data": {
      "text/plain": [
       "(7728, 9)"
      ]
     },
     "execution_count": 13,
     "metadata": {},
     "output_type": "execute_result"
    }
   ],
   "source": [
    "X.shape"
   ]
  },
  {
   "cell_type": "code",
   "execution_count": 14,
   "id": "dceebfe9",
   "metadata": {},
   "outputs": [
    {
     "data": {
      "text/plain": [
       "(7728,)"
      ]
     },
     "execution_count": 14,
     "metadata": {},
     "output_type": "execute_result"
    }
   ],
   "source": [
    "y.shape"
   ]
  },
  {
   "cell_type": "code",
   "execution_count": 15,
   "id": "70ce238d",
   "metadata": {},
   "outputs": [],
   "source": [
    "from sklearn.linear_model import LinearRegression\n",
    "classifier = LinearRegression()"
   ]
  },
  {
   "cell_type": "code",
   "execution_count": null,
   "id": "17664879",
   "metadata": {},
   "outputs": [],
   "source": [
    "#from sklearn.model_selection import train_test_split\n",
    "\n",
    "#X_train, X_test, y_train, y_test = train_test_split(X, \n",
    "#                                                    y, \n",
    "#                                                    random_state=1, \n",
    "#                                                    stratify=y)\n",
    "#X_train.shape"
   ]
  },
  {
   "cell_type": "code",
   "execution_count": null,
   "id": "e9e1ec96",
   "metadata": {},
   "outputs": [],
   "source": [
    "#from sklearn.linear_model import LinearRegression\n",
    "#classifier = LinearRegression()"
   ]
  },
  {
   "cell_type": "code",
   "execution_count": 16,
   "id": "1e0550cf",
   "metadata": {},
   "outputs": [
    {
     "data": {
      "text/plain": [
       "LinearRegression()"
      ]
     },
     "execution_count": 16,
     "metadata": {},
     "output_type": "execute_result"
    }
   ],
   "source": [
    "classifier.fit(X, y)"
   ]
  },
  {
   "cell_type": "code",
   "execution_count": 17,
   "id": "a050eba4",
   "metadata": {},
   "outputs": [
    {
     "name": "stdout",
     "output_type": "stream",
     "text": [
      "[4.28637311 4.2656333  4.37500459 ... 4.10230026 4.2021497  4.10802486]\n"
     ]
    }
   ],
   "source": [
    "y_pred = classifier.predict(X)\n",
    "print(y_pred)"
   ]
  },
  {
   "cell_type": "code",
   "execution_count": 18,
   "id": "83c3a5b7",
   "metadata": {},
   "outputs": [
    {
     "name": "stdout",
     "output_type": "stream",
     "text": [
      "[-1.02660107e-03  1.05698036e-01  5.80457104e-03 -1.04779436e-03\n",
      "  7.84231553e-02  1.92532077e-08  1.25817710e-03  3.00995062e-11\n",
      " -9.68032057e-04]\n",
      "4.1618635771428485\n"
     ]
    }
   ],
   "source": [
    "print(classifier.coef_)\n",
    "print(classifier.intercept_)"
   ]
  },
  {
   "cell_type": "code",
   "execution_count": 20,
   "id": "3b7083e6",
   "metadata": {},
   "outputs": [
    {
     "ename": "ValueError",
     "evalue": "continuous is not supported",
     "output_type": "error",
     "traceback": [
      "\u001b[1;31m---------------------------------------------------------------------------\u001b[0m",
      "\u001b[1;31mValueError\u001b[0m                                Traceback (most recent call last)",
      "\u001b[1;32m~\\AppData\\Local\\Temp/ipykernel_26504/1828984658.py\u001b[0m in \u001b[0;36m<module>\u001b[1;34m\u001b[0m\n\u001b[0;32m      1\u001b[0m \u001b[1;32mfrom\u001b[0m \u001b[0msklearn\u001b[0m\u001b[1;33m.\u001b[0m\u001b[0mmetrics\u001b[0m \u001b[1;32mimport\u001b[0m \u001b[0maccuracy_score\u001b[0m\u001b[1;33m\u001b[0m\u001b[1;33m\u001b[0m\u001b[0m\n\u001b[1;32m----> 2\u001b[1;33m \u001b[0mprint\u001b[0m\u001b[1;33m(\u001b[0m\u001b[0maccuracy_score\u001b[0m\u001b[1;33m(\u001b[0m\u001b[0my\u001b[0m\u001b[1;33m,\u001b[0m \u001b[0my_pred\u001b[0m\u001b[1;33m)\u001b[0m\u001b[1;33m)\u001b[0m\u001b[1;33m\u001b[0m\u001b[1;33m\u001b[0m\u001b[0m\n\u001b[0m",
      "\u001b[1;32m~\\anaconda3\\envs\\PythonData\\lib\\site-packages\\sklearn\\metrics\\_classification.py\u001b[0m in \u001b[0;36maccuracy_score\u001b[1;34m(y_true, y_pred, normalize, sample_weight)\u001b[0m\n\u001b[0;32m    209\u001b[0m \u001b[1;33m\u001b[0m\u001b[0m\n\u001b[0;32m    210\u001b[0m     \u001b[1;31m# Compute accuracy for each possible representation\u001b[0m\u001b[1;33m\u001b[0m\u001b[1;33m\u001b[0m\u001b[1;33m\u001b[0m\u001b[0m\n\u001b[1;32m--> 211\u001b[1;33m     \u001b[0my_type\u001b[0m\u001b[1;33m,\u001b[0m \u001b[0my_true\u001b[0m\u001b[1;33m,\u001b[0m \u001b[0my_pred\u001b[0m \u001b[1;33m=\u001b[0m \u001b[0m_check_targets\u001b[0m\u001b[1;33m(\u001b[0m\u001b[0my_true\u001b[0m\u001b[1;33m,\u001b[0m \u001b[0my_pred\u001b[0m\u001b[1;33m)\u001b[0m\u001b[1;33m\u001b[0m\u001b[1;33m\u001b[0m\u001b[0m\n\u001b[0m\u001b[0;32m    212\u001b[0m     \u001b[0mcheck_consistent_length\u001b[0m\u001b[1;33m(\u001b[0m\u001b[0my_true\u001b[0m\u001b[1;33m,\u001b[0m \u001b[0my_pred\u001b[0m\u001b[1;33m,\u001b[0m \u001b[0msample_weight\u001b[0m\u001b[1;33m)\u001b[0m\u001b[1;33m\u001b[0m\u001b[1;33m\u001b[0m\u001b[0m\n\u001b[0;32m    213\u001b[0m     \u001b[1;32mif\u001b[0m \u001b[0my_type\u001b[0m\u001b[1;33m.\u001b[0m\u001b[0mstartswith\u001b[0m\u001b[1;33m(\u001b[0m\u001b[1;34m\"multilabel\"\u001b[0m\u001b[1;33m)\u001b[0m\u001b[1;33m:\u001b[0m\u001b[1;33m\u001b[0m\u001b[1;33m\u001b[0m\u001b[0m\n",
      "\u001b[1;32m~\\anaconda3\\envs\\PythonData\\lib\\site-packages\\sklearn\\metrics\\_classification.py\u001b[0m in \u001b[0;36m_check_targets\u001b[1;34m(y_true, y_pred)\u001b[0m\n\u001b[0;32m    102\u001b[0m     \u001b[1;31m# No metrics support \"multiclass-multioutput\" format\u001b[0m\u001b[1;33m\u001b[0m\u001b[1;33m\u001b[0m\u001b[1;33m\u001b[0m\u001b[0m\n\u001b[0;32m    103\u001b[0m     \u001b[1;32mif\u001b[0m \u001b[0my_type\u001b[0m \u001b[1;32mnot\u001b[0m \u001b[1;32min\u001b[0m \u001b[1;33m[\u001b[0m\u001b[1;34m\"binary\"\u001b[0m\u001b[1;33m,\u001b[0m \u001b[1;34m\"multiclass\"\u001b[0m\u001b[1;33m,\u001b[0m \u001b[1;34m\"multilabel-indicator\"\u001b[0m\u001b[1;33m]\u001b[0m\u001b[1;33m:\u001b[0m\u001b[1;33m\u001b[0m\u001b[1;33m\u001b[0m\u001b[0m\n\u001b[1;32m--> 104\u001b[1;33m         \u001b[1;32mraise\u001b[0m \u001b[0mValueError\u001b[0m\u001b[1;33m(\u001b[0m\u001b[1;34m\"{0} is not supported\"\u001b[0m\u001b[1;33m.\u001b[0m\u001b[0mformat\u001b[0m\u001b[1;33m(\u001b[0m\u001b[0my_type\u001b[0m\u001b[1;33m)\u001b[0m\u001b[1;33m)\u001b[0m\u001b[1;33m\u001b[0m\u001b[1;33m\u001b[0m\u001b[0m\n\u001b[0m\u001b[0;32m    105\u001b[0m \u001b[1;33m\u001b[0m\u001b[0m\n\u001b[0;32m    106\u001b[0m     \u001b[1;32mif\u001b[0m \u001b[0my_type\u001b[0m \u001b[1;32min\u001b[0m \u001b[1;33m[\u001b[0m\u001b[1;34m\"binary\"\u001b[0m\u001b[1;33m,\u001b[0m \u001b[1;34m\"multiclass\"\u001b[0m\u001b[1;33m]\u001b[0m\u001b[1;33m:\u001b[0m\u001b[1;33m\u001b[0m\u001b[1;33m\u001b[0m\u001b[0m\n",
      "\u001b[1;31mValueError\u001b[0m: continuous is not supported"
     ]
    }
   ],
   "source": [
    "from sklearn.metrics import accuracy_score\n",
    "print(accuracy_score(y, y_pred))"
   ]
  },
  {
   "cell_type": "code",
   "execution_count": null,
   "id": "dde1b3e6",
   "metadata": {},
   "outputs": [],
   "source": []
  }
 ],
 "metadata": {
  "kernelspec": {
   "display_name": "PythonData",
   "language": "python",
   "name": "pythondata"
  },
  "language_info": {
   "codemirror_mode": {
    "name": "ipython",
    "version": 3
   },
   "file_extension": ".py",
   "mimetype": "text/x-python",
   "name": "python",
   "nbconvert_exporter": "python",
   "pygments_lexer": "ipython3",
   "version": "3.7.11"
  }
 },
 "nbformat": 4,
 "nbformat_minor": 5
}
